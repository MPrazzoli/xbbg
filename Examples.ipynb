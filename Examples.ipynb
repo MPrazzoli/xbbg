{
  "cells": [
    {
      "cell_type": "code",
      "source": [
        "import pandas as pd\n",
        "import numpy as np\n",
        "\n",
        "from xbbg import blp, pipeline, const"
      ],
      "outputs": [],
      "execution_count": 1,
      "metadata": {
        "id": "-BYJlOV2-BTp",
        "execution": {
          "iopub.status.busy": "2021-01-01T16:22:55.643Z",
          "iopub.execute_input": "2021-01-01T16:22:55.653Z",
          "iopub.status.idle": "2021-01-01T16:22:55.705Z",
          "shell.execute_reply": "2021-01-01T16:22:55.687Z"
        }
      }
    },
    {
      "cell_type": "markdown",
      "source": [
        "# Reference Data `BDP` and `BDS`"
      ],
      "metadata": {
        "id": "c5LBd3_p_iCF"
      }
    },
    {
      "cell_type": "code",
      "source": [
        "blp.__version__"
      ],
      "outputs": [
        {
          "output_type": "execute_result",
          "execution_count": 2,
          "data": {
            "text/plain": "'0.7.5a4'"
          },
          "metadata": {}
        }
      ],
      "execution_count": 2,
      "metadata": {
        "colab": {
          "base_uri": "https://localhost:8080/"
        },
        "id": "6rIxWjWJTMY7",
        "outputId": "48c52c3f-3c29-4535-acbc-38c5c10e7f18",
        "execution": {
          "iopub.status.busy": "2021-01-01T16:22:55.726Z",
          "iopub.execute_input": "2021-01-01T16:22:55.733Z",
          "iopub.status.idle": "2021-01-01T16:22:55.752Z",
          "shell.execute_reply": "2021-01-01T16:22:55.813Z"
        }
      }
    },
    {
      "cell_type": "code",
      "source": [
        "blp.bdp('AAPL US Equity', flds=['Security_Name', 'Last_Price'])"
      ],
      "outputs": [
        {
          "output_type": "execute_result",
          "execution_count": 3,
          "data": {
            "text/plain": "               security_name last_price\nAAPL US Equity     Apple Inc     132.69",
            "text/html": "<div>\n<style scoped>\n    .dataframe tbody tr th:only-of-type {\n        vertical-align: middle;\n    }\n\n    .dataframe tbody tr th {\n        vertical-align: top;\n    }\n\n    .dataframe thead th {\n        text-align: right;\n    }\n</style>\n<table border=\"1\" class=\"dataframe\">\n  <thead>\n    <tr style=\"text-align: right;\">\n      <th></th>\n      <th>security_name</th>\n      <th>last_price</th>\n    </tr>\n  </thead>\n  <tbody>\n    <tr>\n      <th>AAPL US Equity</th>\n      <td>Apple Inc</td>\n      <td>132.69</td>\n    </tr>\n  </tbody>\n</table>\n</div>"
          },
          "metadata": {}
        }
      ],
      "execution_count": 3,
      "metadata": {
        "id": "H48xG1Hd_Twg",
        "colab": {
          "base_uri": "https://localhost:8080/",
          "height": 81
        },
        "outputId": "755004b3-83e8-4a1d-bb04-c67705b8c4ac",
        "execution": {
          "iopub.status.busy": "2021-01-01T16:22:55.766Z",
          "iopub.execute_input": "2021-01-01T16:22:55.778Z",
          "iopub.status.idle": "2021-01-01T16:22:56.860Z",
          "shell.execute_reply": "2021-01-01T16:22:56.895Z"
        }
      }
    },
    {
      "cell_type": "code",
      "source": [
        "blp.bdp('6758 JP Equity', flds='Crncy_Adj_Mkt_Cap', Eqy_Fund_Crncy='USD')"
      ],
      "outputs": [
        {
          "output_type": "execute_result",
          "execution_count": 4,
          "data": {
            "text/plain": "                crncy_adj_mkt_cap\n6758 JP Equity         125,678.20",
            "text/html": "<div>\n<style scoped>\n    .dataframe tbody tr th:only-of-type {\n        vertical-align: middle;\n    }\n\n    .dataframe tbody tr th {\n        vertical-align: top;\n    }\n\n    .dataframe thead th {\n        text-align: right;\n    }\n</style>\n<table border=\"1\" class=\"dataframe\">\n  <thead>\n    <tr style=\"text-align: right;\">\n      <th></th>\n      <th>crncy_adj_mkt_cap</th>\n    </tr>\n  </thead>\n  <tbody>\n    <tr>\n      <th>6758 JP Equity</th>\n      <td>125,678.20</td>\n    </tr>\n  </tbody>\n</table>\n</div>"
          },
          "metadata": {}
        }
      ],
      "execution_count": 4,
      "metadata": {
        "id": "pEya245x_qWa",
        "colab": {
          "base_uri": "https://localhost:8080/",
          "height": 81
        },
        "outputId": "54fed43a-0e60-4f1b-c2b1-51d543bf2b75",
        "execution": {
          "iopub.status.busy": "2021-01-01T16:22:56.875Z",
          "iopub.execute_input": "2021-01-01T16:22:56.882Z",
          "iopub.status.idle": "2021-01-01T16:22:57.266Z",
          "shell.execute_reply": "2021-01-01T16:22:57.236Z"
        }
      }
    },
    {
      "cell_type": "code",
      "source": [
        "holders = blp.bds('AMZN US Equity', flds='All_Holders_Public_Filings', cache=True)\n",
        "(\n",
        "    holders\n",
        "    .loc[:, ~holders.columns.str.contains(\n",
        "        f'holder_id|portfolio_name|change|number|'\n",
        "        f'metro|percent_of_portfolio|source'\n",
        "    )]\n",
        "    .rename(\n",
        "        index=lambda tkr: tkr.replace(' Equity', ''),\n",
        "        columns={\n",
        "            'holder_name_': 'holder',\n",
        "            'position_': 'position',\n",
        "            'filing_date__': 'filing_dt',\n",
        "            'percent_outstanding': 'pct_out',\n",
        "            'insider_status_': 'insider',\n",
        "        }\n",
        "    )\n",
        ").head()"
      ],
      "outputs": [
        {
          "output_type": "execute_result",
          "execution_count": 5,
          "data": {
            "text/plain": "                         holder      position   filing_dt insider  pct_out   institution_type_        country\nAMZN US         Bezos Jeffrey P 53,220,618.00  2020-12-02       Y    10.61        Unclassified            n/a\nAMZN US  Vanguard Group Inc/The 32,783,886.00  2020-09-30     N-P     6.53  Investment Advisor  United States\nAMZN US           BlackRock Inc 27,661,214.00  2020-09-30     N-P     5.51  Investment Advisor  United States\nAMZN US         Scott MacKenzie 19,786,240.00  2019-08-01     N-P     3.94        Unclassified            n/a\nAMZN US                 FMR LLC 18,657,381.00  2020-12-31     N-P     3.72  Investment Advisor  United States",
            "text/html": "<div>\n<style scoped>\n    .dataframe tbody tr th:only-of-type {\n        vertical-align: middle;\n    }\n\n    .dataframe tbody tr th {\n        vertical-align: top;\n    }\n\n    .dataframe thead th {\n        text-align: right;\n    }\n</style>\n<table border=\"1\" class=\"dataframe\">\n  <thead>\n    <tr style=\"text-align: right;\">\n      <th></th>\n      <th>holder</th>\n      <th>position</th>\n      <th>filing_dt</th>\n      <th>insider</th>\n      <th>pct_out</th>\n      <th>institution_type_</th>\n      <th>country</th>\n    </tr>\n  </thead>\n  <tbody>\n    <tr>\n      <th>AMZN US</th>\n      <td>Bezos Jeffrey P</td>\n      <td>53,220,618.00</td>\n      <td>2020-12-02</td>\n      <td>Y</td>\n      <td>10.61</td>\n      <td>Unclassified</td>\n      <td>n/a</td>\n    </tr>\n    <tr>\n      <th>AMZN US</th>\n      <td>Vanguard Group Inc/The</td>\n      <td>32,783,886.00</td>\n      <td>2020-09-30</td>\n      <td>N-P</td>\n      <td>6.53</td>\n      <td>Investment Advisor</td>\n      <td>United States</td>\n    </tr>\n    <tr>\n      <th>AMZN US</th>\n      <td>BlackRock Inc</td>\n      <td>27,661,214.00</td>\n      <td>2020-09-30</td>\n      <td>N-P</td>\n      <td>5.51</td>\n      <td>Investment Advisor</td>\n      <td>United States</td>\n    </tr>\n    <tr>\n      <th>AMZN US</th>\n      <td>Scott MacKenzie</td>\n      <td>19,786,240.00</td>\n      <td>2019-08-01</td>\n      <td>N-P</td>\n      <td>3.94</td>\n      <td>Unclassified</td>\n      <td>n/a</td>\n    </tr>\n    <tr>\n      <th>AMZN US</th>\n      <td>FMR LLC</td>\n      <td>18,657,381.00</td>\n      <td>2020-12-31</td>\n      <td>N-P</td>\n      <td>3.72</td>\n      <td>Investment Advisor</td>\n      <td>United States</td>\n    </tr>\n  </tbody>\n</table>\n</div>"
          },
          "metadata": {}
        }
      ],
      "execution_count": 5,
      "metadata": {
        "id": "tyXZPF62Angb",
        "colab": {
          "base_uri": "https://localhost:8080/",
          "height": 206
        },
        "outputId": "977ad30f-43c5-4bb4-f271-a73b788f2e18",
        "execution": {
          "iopub.status.busy": "2021-01-01T16:22:57.283Z",
          "iopub.execute_input": "2021-01-01T16:22:57.293Z",
          "iopub.status.idle": "2021-01-01T16:22:57.313Z",
          "shell.execute_reply": "2021-01-01T16:22:57.365Z"
        }
      }
    },
    {
      "cell_type": "code",
      "source": [
        "blp.dividend('SPY US Equity', start_date='2019')"
      ],
      "outputs": [
        {
          "output_type": "execute_result",
          "execution_count": 6,
          "data": {
            "text/plain": "                 dec_date     ex_date    rec_date    pay_date  dvd_amt dvd_freq dvd_type\nSPY US Equity  2020-12-17  2020-12-18  2020-12-21  2021-01-29     1.58  Quarter   Income\nSPY US Equity  2020-09-17  2020-09-18  2020-09-21  2020-10-30     1.34  Quarter   Income\nSPY US Equity  2020-06-18  2020-06-19  2020-06-22  2020-07-31     1.37  Quarter   Income\nSPY US Equity  2020-03-19  2020-03-20  2020-03-23  2020-04-30     1.41  Quarter   Income\nSPY US Equity  2019-12-19  2019-12-20  2019-12-23  2020-01-31     1.57  Quarter   Income\nSPY US Equity  2019-09-19  2019-09-20  2019-09-23  2019-10-31     1.38  Quarter   Income\nSPY US Equity  2019-06-20  2019-06-21  2019-06-24  2019-07-31     1.43  Quarter   Income\nSPY US Equity  2019-03-14  2019-03-15  2019-03-18  2019-04-30     1.23  Quarter   Income",
            "text/html": "<div>\n<style scoped>\n    .dataframe tbody tr th:only-of-type {\n        vertical-align: middle;\n    }\n\n    .dataframe tbody tr th {\n        vertical-align: top;\n    }\n\n    .dataframe thead th {\n        text-align: right;\n    }\n</style>\n<table border=\"1\" class=\"dataframe\">\n  <thead>\n    <tr style=\"text-align: right;\">\n      <th></th>\n      <th>dec_date</th>\n      <th>ex_date</th>\n      <th>rec_date</th>\n      <th>pay_date</th>\n      <th>dvd_amt</th>\n      <th>dvd_freq</th>\n      <th>dvd_type</th>\n    </tr>\n  </thead>\n  <tbody>\n    <tr>\n      <th>SPY US Equity</th>\n      <td>2020-12-17</td>\n      <td>2020-12-18</td>\n      <td>2020-12-21</td>\n      <td>2021-01-29</td>\n      <td>1.58</td>\n      <td>Quarter</td>\n      <td>Income</td>\n    </tr>\n    <tr>\n      <th>SPY US Equity</th>\n      <td>2020-09-17</td>\n      <td>2020-09-18</td>\n      <td>2020-09-21</td>\n      <td>2020-10-30</td>\n      <td>1.34</td>\n      <td>Quarter</td>\n      <td>Income</td>\n    </tr>\n    <tr>\n      <th>SPY US Equity</th>\n      <td>2020-06-18</td>\n      <td>2020-06-19</td>\n      <td>2020-06-22</td>\n      <td>2020-07-31</td>\n      <td>1.37</td>\n      <td>Quarter</td>\n      <td>Income</td>\n    </tr>\n    <tr>\n      <th>SPY US Equity</th>\n      <td>2020-03-19</td>\n      <td>2020-03-20</td>\n      <td>2020-03-23</td>\n      <td>2020-04-30</td>\n      <td>1.41</td>\n      <td>Quarter</td>\n      <td>Income</td>\n    </tr>\n    <tr>\n      <th>SPY US Equity</th>\n      <td>2019-12-19</td>\n      <td>2019-12-20</td>\n      <td>2019-12-23</td>\n      <td>2020-01-31</td>\n      <td>1.57</td>\n      <td>Quarter</td>\n      <td>Income</td>\n    </tr>\n    <tr>\n      <th>SPY US Equity</th>\n      <td>2019-09-19</td>\n      <td>2019-09-20</td>\n      <td>2019-09-23</td>\n      <td>2019-10-31</td>\n      <td>1.38</td>\n      <td>Quarter</td>\n      <td>Income</td>\n    </tr>\n    <tr>\n      <th>SPY US Equity</th>\n      <td>2019-06-20</td>\n      <td>2019-06-21</td>\n      <td>2019-06-24</td>\n      <td>2019-07-31</td>\n      <td>1.43</td>\n      <td>Quarter</td>\n      <td>Income</td>\n    </tr>\n    <tr>\n      <th>SPY US Equity</th>\n      <td>2019-03-14</td>\n      <td>2019-03-15</td>\n      <td>2019-03-18</td>\n      <td>2019-04-30</td>\n      <td>1.23</td>\n      <td>Quarter</td>\n      <td>Income</td>\n    </tr>\n  </tbody>\n</table>\n</div>"
          },
          "metadata": {}
        }
      ],
      "execution_count": 6,
      "metadata": {
        "id": "X6_popxkC_ft",
        "colab": {
          "base_uri": "https://localhost:8080/",
          "height": 300
        },
        "outputId": "5e6ce9f6-4f13-460a-a1c8-8035f967ee5a",
        "execution": {
          "iopub.status.busy": "2021-01-01T16:22:57.327Z",
          "iopub.execute_input": "2021-01-01T16:22:57.336Z",
          "iopub.status.idle": "2021-01-01T16:22:57.754Z",
          "shell.execute_reply": "2021-01-01T16:22:57.744Z"
        }
      }
    },
    {
      "cell_type": "code",
      "source": [
        "blp.earning('FB US Equity', Eqy_Fund_Year=2018, Number_Of_Periods=2)"
      ],
      "outputs": [
        {
          "output_type": "execute_result",
          "execution_count": 7,
          "data": {
            "text/plain": "               segment_name  level    fy2019    fy2018  fy2019_pct  fy2018_pct\nFB US Equity    US & Canada      1 32,206.00 25,727.00       45.55       46.07\nFB US Equity         Europe      1 16,826.00 13,631.00       23.80       24.41\nFB US Equity   Asia-Pacific      1 15,406.00 11,733.00       21.79       21.01\nFB US Equity  Rest of World      1  6,259.00  4,747.00        8.85        8.50",
            "text/html": "<div>\n<style scoped>\n    .dataframe tbody tr th:only-of-type {\n        vertical-align: middle;\n    }\n\n    .dataframe tbody tr th {\n        vertical-align: top;\n    }\n\n    .dataframe thead th {\n        text-align: right;\n    }\n</style>\n<table border=\"1\" class=\"dataframe\">\n  <thead>\n    <tr style=\"text-align: right;\">\n      <th></th>\n      <th>segment_name</th>\n      <th>level</th>\n      <th>fy2019</th>\n      <th>fy2018</th>\n      <th>fy2019_pct</th>\n      <th>fy2018_pct</th>\n    </tr>\n  </thead>\n  <tbody>\n    <tr>\n      <th>FB US Equity</th>\n      <td>US &amp; Canada</td>\n      <td>1</td>\n      <td>32,206.00</td>\n      <td>25,727.00</td>\n      <td>45.55</td>\n      <td>46.07</td>\n    </tr>\n    <tr>\n      <th>FB US Equity</th>\n      <td>Europe</td>\n      <td>1</td>\n      <td>16,826.00</td>\n      <td>13,631.00</td>\n      <td>23.80</td>\n      <td>24.41</td>\n    </tr>\n    <tr>\n      <th>FB US Equity</th>\n      <td>Asia-Pacific</td>\n      <td>1</td>\n      <td>15,406.00</td>\n      <td>11,733.00</td>\n      <td>21.79</td>\n      <td>21.01</td>\n    </tr>\n    <tr>\n      <th>FB US Equity</th>\n      <td>Rest of World</td>\n      <td>1</td>\n      <td>6,259.00</td>\n      <td>4,747.00</td>\n      <td>8.85</td>\n      <td>8.50</td>\n    </tr>\n  </tbody>\n</table>\n</div>"
          },
          "metadata": {}
        }
      ],
      "execution_count": 7,
      "metadata": {
        "id": "QCr2OoJZDHJE",
        "colab": {
          "base_uri": "https://localhost:8080/",
          "height": 175
        },
        "outputId": "efa9bc13-51af-4998-b040-dfe2aeaae51d",
        "execution": {
          "iopub.status.busy": "2021-01-01T16:22:57.769Z",
          "iopub.execute_input": "2021-01-01T16:22:57.780Z",
          "iopub.status.idle": "2021-01-01T16:22:58.468Z",
          "shell.execute_reply": "2021-01-01T16:22:58.505Z"
        }
      }
    },
    {
      "cell_type": "markdown",
      "source": [
        "# Historical Data"
      ],
      "metadata": {
        "id": "47tzPYCDDi10"
      }
    },
    {
      "cell_type": "markdown",
      "source": [
        "Historical data with Excel compatible overrides"
      ],
      "metadata": {
        "id": "AgjNESzWD_VT"
      }
    },
    {
      "cell_type": "code",
      "source": [
        "blp.bdh(\n",
        "    tickers='SHCOMP Index', flds=['high', 'low', 'last_price'],\n",
        "    start_date='2019-11', end_date='2020', Per='W', Fill='P', Days='A',\n",
        ")"
      ],
      "outputs": [
        {
          "output_type": "execute_result",
          "execution_count": 8,
          "data": {
            "text/plain": "           SHCOMP Index                    \n                   high      low last_price\n2019-11-01     2,980.13 2,917.15   2,958.20\n2019-11-08     3,008.31 2,962.84   2,964.18\n2019-11-15     2,949.96 2,891.20   2,891.34\n2019-11-22     2,933.99 2,873.99   2,885.29\n2019-11-29     2,915.04 2,858.58   2,871.98\n2019-12-06     2,912.01 2,857.32   2,912.01\n2019-12-13     2,969.98 2,902.79   2,967.68\n2019-12-20     3,039.38 2,958.71   3,004.94\n2019-12-27     3,036.11 2,960.43   3,005.03",
            "text/html": "<div>\n<style scoped>\n    .dataframe tbody tr th:only-of-type {\n        vertical-align: middle;\n    }\n\n    .dataframe tbody tr th {\n        vertical-align: top;\n    }\n\n    .dataframe thead tr th {\n        text-align: left;\n    }\n</style>\n<table border=\"1\" class=\"dataframe\">\n  <thead>\n    <tr>\n      <th></th>\n      <th colspan=\"3\" halign=\"left\">SHCOMP Index</th>\n    </tr>\n    <tr>\n      <th></th>\n      <th>high</th>\n      <th>low</th>\n      <th>last_price</th>\n    </tr>\n  </thead>\n  <tbody>\n    <tr>\n      <th>2019-11-01</th>\n      <td>2,980.13</td>\n      <td>2,917.15</td>\n      <td>2,958.20</td>\n    </tr>\n    <tr>\n      <th>2019-11-08</th>\n      <td>3,008.31</td>\n      <td>2,962.84</td>\n      <td>2,964.18</td>\n    </tr>\n    <tr>\n      <th>2019-11-15</th>\n      <td>2,949.96</td>\n      <td>2,891.20</td>\n      <td>2,891.34</td>\n    </tr>\n    <tr>\n      <th>2019-11-22</th>\n      <td>2,933.99</td>\n      <td>2,873.99</td>\n      <td>2,885.29</td>\n    </tr>\n    <tr>\n      <th>2019-11-29</th>\n      <td>2,915.04</td>\n      <td>2,858.58</td>\n      <td>2,871.98</td>\n    </tr>\n    <tr>\n      <th>2019-12-06</th>\n      <td>2,912.01</td>\n      <td>2,857.32</td>\n      <td>2,912.01</td>\n    </tr>\n    <tr>\n      <th>2019-12-13</th>\n      <td>2,969.98</td>\n      <td>2,902.79</td>\n      <td>2,967.68</td>\n    </tr>\n    <tr>\n      <th>2019-12-20</th>\n      <td>3,039.38</td>\n      <td>2,958.71</td>\n      <td>3,004.94</td>\n    </tr>\n    <tr>\n      <th>2019-12-27</th>\n      <td>3,036.11</td>\n      <td>2,960.43</td>\n      <td>3,005.03</td>\n    </tr>\n  </tbody>\n</table>\n</div>"
          },
          "metadata": {}
        }
      ],
      "execution_count": 8,
      "metadata": {
        "id": "BXYJi9yfDhvB",
        "colab": {
          "base_uri": "https://localhost:8080/",
          "height": 363
        },
        "outputId": "9bd34a72-da26-42dc-abde-d4a2713f11c8",
        "execution": {
          "iopub.status.busy": "2021-01-01T16:22:58.484Z",
          "iopub.execute_input": "2021-01-01T16:22:58.494Z",
          "iopub.status.idle": "2021-01-01T16:22:58.867Z",
          "shell.execute_reply": "2021-01-01T16:22:58.904Z"
        }
      }
    },
    {
      "cell_type": "markdown",
      "source": [
        "Dividend / split adjustments"
      ],
      "metadata": {
        "id": "SE7izShuEFJv"
      }
    },
    {
      "cell_type": "code",
      "source": [
        "pd.concat([\n",
        "    blp.bdh(\n",
        "        'AAPL US Equity', 'Px_Last', '20140605', '20140610',\n",
        "        CshAdjNormal=True, CshAdjAbnormal=True, CapChg=True\n",
        "    ).rename(columns={'Px_Last': 'Px_Adj'}),\n",
        "    blp.bdh(\n",
        "        'AAPL US Equity', 'Px_Last', '20140605', '20140610',\n",
        "        CshAdjNormal=False, CshAdjAbnormal=False, CapChg=False\n",
        "    ).rename(columns={'Px_Last': 'Px_Raw'}),\n",
        "], axis=1)"
      ],
      "outputs": [
        {
          "output_type": "execute_result",
          "execution_count": 9,
          "data": {
            "text/plain": "           AAPL US Equity       \n                   Px_Adj Px_Raw\n2014-06-05          20.87 647.35\n2014-06-06          20.81 645.57\n2014-06-09          21.14  93.70\n2014-06-10          21.27  94.25",
            "text/html": "<div>\n<style scoped>\n    .dataframe tbody tr th:only-of-type {\n        vertical-align: middle;\n    }\n\n    .dataframe tbody tr th {\n        vertical-align: top;\n    }\n\n    .dataframe thead tr th {\n        text-align: left;\n    }\n</style>\n<table border=\"1\" class=\"dataframe\">\n  <thead>\n    <tr>\n      <th></th>\n      <th colspan=\"2\" halign=\"left\">AAPL US Equity</th>\n    </tr>\n    <tr>\n      <th></th>\n      <th>Px_Adj</th>\n      <th>Px_Raw</th>\n    </tr>\n  </thead>\n  <tbody>\n    <tr>\n      <th>2014-06-05</th>\n      <td>20.87</td>\n      <td>647.35</td>\n    </tr>\n    <tr>\n      <th>2014-06-06</th>\n      <td>20.81</td>\n      <td>645.57</td>\n    </tr>\n    <tr>\n      <th>2014-06-09</th>\n      <td>21.14</td>\n      <td>93.70</td>\n    </tr>\n    <tr>\n      <th>2014-06-10</th>\n      <td>21.27</td>\n      <td>94.25</td>\n    </tr>\n  </tbody>\n</table>\n</div>"
          },
          "metadata": {}
        }
      ],
      "execution_count": 9,
      "metadata": {
        "id": "VK8Dgs9HENnG",
        "colab": {
          "base_uri": "https://localhost:8080/",
          "height": 206
        },
        "outputId": "eaf32134-f75e-46f2-8067-5f4499c9c648",
        "execution": {
          "iopub.status.busy": "2021-01-01T16:22:58.883Z",
          "iopub.execute_input": "2021-01-01T16:22:58.895Z",
          "iopub.status.idle": "2021-01-01T16:22:59.536Z",
          "shell.execute_reply": "2021-01-01T16:22:59.585Z"
        }
      }
    },
    {
      "cell_type": "markdown",
      "source": [
        "# Intraday Bars"
      ],
      "metadata": {
        "id": "6jiuSZWfGp0F"
      }
    },
    {
      "cell_type": "code",
      "source": [
        "cur_dt = pd.Timestamp('today', tz='America/New_York').date()\n",
        "recent = pd.bdate_range(end=cur_dt, periods=2, tz='America/New_York')\n",
        "pre_dt = max(filter(lambda dd: dd < cur_dt, recent))\n",
        "pre_dt.date()"
      ],
      "outputs": [
        {
          "output_type": "execute_result",
          "execution_count": 10,
          "data": {
            "text/plain": "datetime.date(2020, 12, 31)"
          },
          "metadata": {}
        }
      ],
      "execution_count": 10,
      "metadata": {
        "id": "TUxTkLe5HMZA",
        "colab": {
          "base_uri": "https://localhost:8080/"
        },
        "outputId": "686bcc7b-03b3-4e2c-ea30-f9b15ebca3fa",
        "execution": {
          "iopub.status.busy": "2021-01-01T16:22:59.549Z",
          "iopub.execute_input": "2021-01-01T16:22:59.559Z",
          "iopub.status.idle": "2021-01-01T16:22:59.661Z",
          "shell.execute_reply": "2021-01-01T16:22:59.647Z"
        }
      }
    },
    {
      "cell_type": "code",
      "source": [
        "blp.bdib('QQQ US Equity', dt=pre_dt, session='day').tail()"
      ],
      "outputs": [
        {
          "output_type": "execute_result",
          "execution_count": 11,
          "data": {
            "text/plain": "                          QQQ US Equity                                                      \n                                   open   high    low  close   volume num_trds          value\n2020-12-31 15:55:00-05:00        313.62 313.71 313.52 313.69   248779     1317  78,021,848.00\n2020-12-31 15:56:00-05:00        313.69 313.89 313.69 313.88   166509      940  52,248,948.00\n2020-12-31 15:57:00-05:00        313.89 314.02 313.83 313.91   302438     1647  94,943,712.00\n2020-12-31 15:58:00-05:00        313.88 313.97 313.82 313.91   296271     1494  92,996,616.00\n2020-12-31 15:59:00-05:00        313.92 314.24 313.57 313.74  1059753     3740 332,712,192.00",
            "text/html": "<div>\n<style scoped>\n    .dataframe tbody tr th:only-of-type {\n        vertical-align: middle;\n    }\n\n    .dataframe tbody tr th {\n        vertical-align: top;\n    }\n\n    .dataframe thead tr th {\n        text-align: left;\n    }\n</style>\n<table border=\"1\" class=\"dataframe\">\n  <thead>\n    <tr>\n      <th></th>\n      <th colspan=\"7\" halign=\"left\">QQQ US Equity</th>\n    </tr>\n    <tr>\n      <th></th>\n      <th>open</th>\n      <th>high</th>\n      <th>low</th>\n      <th>close</th>\n      <th>volume</th>\n      <th>num_trds</th>\n      <th>value</th>\n    </tr>\n  </thead>\n  <tbody>\n    <tr>\n      <th>2020-12-31 15:55:00-05:00</th>\n      <td>313.62</td>\n      <td>313.71</td>\n      <td>313.52</td>\n      <td>313.69</td>\n      <td>248779</td>\n      <td>1317</td>\n      <td>78,021,848.00</td>\n    </tr>\n    <tr>\n      <th>2020-12-31 15:56:00-05:00</th>\n      <td>313.69</td>\n      <td>313.89</td>\n      <td>313.69</td>\n      <td>313.88</td>\n      <td>166509</td>\n      <td>940</td>\n      <td>52,248,948.00</td>\n    </tr>\n    <tr>\n      <th>2020-12-31 15:57:00-05:00</th>\n      <td>313.89</td>\n      <td>314.02</td>\n      <td>313.83</td>\n      <td>313.91</td>\n      <td>302438</td>\n      <td>1647</td>\n      <td>94,943,712.00</td>\n    </tr>\n    <tr>\n      <th>2020-12-31 15:58:00-05:00</th>\n      <td>313.88</td>\n      <td>313.97</td>\n      <td>313.82</td>\n      <td>313.91</td>\n      <td>296271</td>\n      <td>1494</td>\n      <td>92,996,616.00</td>\n    </tr>\n    <tr>\n      <th>2020-12-31 15:59:00-05:00</th>\n      <td>313.92</td>\n      <td>314.24</td>\n      <td>313.57</td>\n      <td>313.74</td>\n      <td>1059753</td>\n      <td>3740</td>\n      <td>332,712,192.00</td>\n    </tr>\n  </tbody>\n</table>\n</div>"
          },
          "metadata": {}
        }
      ],
      "execution_count": 11,
      "metadata": {
        "id": "rIB0MtFvGri9",
        "colab": {
          "base_uri": "https://localhost:8080/",
          "height": 238
        },
        "outputId": "12d6186c-79e0-4a01-8978-4fa0bedf2397",
        "execution": {
          "iopub.status.busy": "2021-01-01T16:22:59.676Z",
          "iopub.execute_input": "2021-01-01T16:22:59.686Z",
          "shell.execute_reply": "2021-01-01T16:22:59.832Z",
          "iopub.status.idle": "2021-01-01T16:22:59.773Z"
        }
      }
    },
    {
      "cell_type": "code",
      "source": [
        "blp.bdib('388 HK Equity', dt=pre_dt, session='am_open_7')"
      ],
      "outputs": [
        {
          "output_type": "execute_result",
          "execution_count": 12,
          "data": {
            "text/plain": "                          388 HK Equity                                                    \n                                   open   high    low  close  volume num_trds         value\n2020-12-31 09:30:00+08:00        425.80 426.40 425.40 426.00  102300      140 43,568,700.00\n2020-12-31 09:31:00+08:00        426.40 427.80 426.20 427.20    9400       36  4,012,060.00\n2020-12-31 09:32:00+08:00        427.80 427.80 426.80 427.20   97600      153 41,678,700.00\n2020-12-31 09:33:00+08:00        426.80 429.00 426.80 428.20   90600      141 38,781,060.00\n2020-12-31 09:34:00+08:00        428.80 430.60 428.60 430.60  161700      225 69,512,560.00\n2020-12-31 09:35:00+08:00        430.60 431.40 430.00 431.00   40800       78 17,577,380.00\n2020-12-31 09:36:00+08:00        431.40 432.00 431.00 431.40   47400       77 20,454,480.00\n2020-12-31 09:37:00+08:00        431.00 431.00 429.40 429.60   27500       56 11,834,160.00",
            "text/html": "<div>\n<style scoped>\n    .dataframe tbody tr th:only-of-type {\n        vertical-align: middle;\n    }\n\n    .dataframe tbody tr th {\n        vertical-align: top;\n    }\n\n    .dataframe thead tr th {\n        text-align: left;\n    }\n</style>\n<table border=\"1\" class=\"dataframe\">\n  <thead>\n    <tr>\n      <th></th>\n      <th colspan=\"7\" halign=\"left\">388 HK Equity</th>\n    </tr>\n    <tr>\n      <th></th>\n      <th>open</th>\n      <th>high</th>\n      <th>low</th>\n      <th>close</th>\n      <th>volume</th>\n      <th>num_trds</th>\n      <th>value</th>\n    </tr>\n  </thead>\n  <tbody>\n    <tr>\n      <th>2020-12-31 09:30:00+08:00</th>\n      <td>425.80</td>\n      <td>426.40</td>\n      <td>425.40</td>\n      <td>426.00</td>\n      <td>102300</td>\n      <td>140</td>\n      <td>43,568,700.00</td>\n    </tr>\n    <tr>\n      <th>2020-12-31 09:31:00+08:00</th>\n      <td>426.40</td>\n      <td>427.80</td>\n      <td>426.20</td>\n      <td>427.20</td>\n      <td>9400</td>\n      <td>36</td>\n      <td>4,012,060.00</td>\n    </tr>\n    <tr>\n      <th>2020-12-31 09:32:00+08:00</th>\n      <td>427.80</td>\n      <td>427.80</td>\n      <td>426.80</td>\n      <td>427.20</td>\n      <td>97600</td>\n      <td>153</td>\n      <td>41,678,700.00</td>\n    </tr>\n    <tr>\n      <th>2020-12-31 09:33:00+08:00</th>\n      <td>426.80</td>\n      <td>429.00</td>\n      <td>426.80</td>\n      <td>428.20</td>\n      <td>90600</td>\n      <td>141</td>\n      <td>38,781,060.00</td>\n    </tr>\n    <tr>\n      <th>2020-12-31 09:34:00+08:00</th>\n      <td>428.80</td>\n      <td>430.60</td>\n      <td>428.60</td>\n      <td>430.60</td>\n      <td>161700</td>\n      <td>225</td>\n      <td>69,512,560.00</td>\n    </tr>\n    <tr>\n      <th>2020-12-31 09:35:00+08:00</th>\n      <td>430.60</td>\n      <td>431.40</td>\n      <td>430.00</td>\n      <td>431.00</td>\n      <td>40800</td>\n      <td>78</td>\n      <td>17,577,380.00</td>\n    </tr>\n    <tr>\n      <th>2020-12-31 09:36:00+08:00</th>\n      <td>431.40</td>\n      <td>432.00</td>\n      <td>431.00</td>\n      <td>431.40</td>\n      <td>47400</td>\n      <td>77</td>\n      <td>20,454,480.00</td>\n    </tr>\n    <tr>\n      <th>2020-12-31 09:37:00+08:00</th>\n      <td>431.00</td>\n      <td>431.00</td>\n      <td>429.40</td>\n      <td>429.60</td>\n      <td>27500</td>\n      <td>56</td>\n      <td>11,834,160.00</td>\n    </tr>\n  </tbody>\n</table>\n</div>"
          },
          "metadata": {}
        }
      ],
      "execution_count": 12,
      "metadata": {
        "id": "NVuSvgmhb-iI",
        "colab": {
          "base_uri": "https://localhost:8080/",
          "height": 332
        },
        "outputId": "33a39a57-27c3-4e0d-b5b2-97ff2394f367",
        "execution": {
          "iopub.status.busy": "2021-01-01T16:22:59.786Z",
          "iopub.execute_input": "2021-01-01T16:22:59.794Z",
          "shell.execute_reply": "2021-01-01T16:22:59.936Z",
          "iopub.status.idle": "2021-01-01T16:22:59.898Z"
        }
      }
    },
    {
      "cell_type": "markdown",
      "source": [
        "# Intraday Tick Data"
      ],
      "metadata": {
        "id": "DP_bqoeYAr30"
      }
    },
    {
      "cell_type": "code",
      "source": [
        "blp.bdtick('QQQ US Equity', dt=pre_dt).tail(10)"
      ],
      "outputs": [
        {
          "output_type": "execute_result",
          "execution_count": 13,
          "data": {
            "text/plain": "                          QQQ US Equity                             \n                                    typ  value volume      cond exch\n2020-12-31 15:00:00-05:00         TRADE 312.88    100     R6,IS    Q\n2020-12-31 15:00:00-05:00         TRADE 312.88    149     R6,IS    P\n2020-12-31 15:00:00-05:00         TRADE 312.88      1  R6,IS,OL    X\n2020-12-31 15:00:00-05:00         TRADE 312.89     41        OL    Z\n2020-12-31 15:00:00-05:00         TRADE 312.88     17        OL    B\n2020-12-31 15:00:00-05:00         TRADE 312.89    500       NaN    P\n2020-12-31 15:00:00-05:00         TRADE 312.89    200     R6,IS    Q\n2020-12-31 15:00:00-05:00         TRADE 312.89    200     R6,IS    Q\n2020-12-31 15:00:00-05:00         TRADE 312.89    200     R6,IS    K\n2020-12-31 15:00:00-05:00         TRADE 312.89    200     R6,IS    Z",
            "text/html": "<div>\n<style scoped>\n    .dataframe tbody tr th:only-of-type {\n        vertical-align: middle;\n    }\n\n    .dataframe tbody tr th {\n        vertical-align: top;\n    }\n\n    .dataframe thead tr th {\n        text-align: left;\n    }\n</style>\n<table border=\"1\" class=\"dataframe\">\n  <thead>\n    <tr>\n      <th></th>\n      <th colspan=\"5\" halign=\"left\">QQQ US Equity</th>\n    </tr>\n    <tr>\n      <th></th>\n      <th>typ</th>\n      <th>value</th>\n      <th>volume</th>\n      <th>cond</th>\n      <th>exch</th>\n    </tr>\n  </thead>\n  <tbody>\n    <tr>\n      <th>2020-12-31 15:00:00-05:00</th>\n      <td>TRADE</td>\n      <td>312.88</td>\n      <td>100</td>\n      <td>R6,IS</td>\n      <td>Q</td>\n    </tr>\n    <tr>\n      <th>2020-12-31 15:00:00-05:00</th>\n      <td>TRADE</td>\n      <td>312.88</td>\n      <td>149</td>\n      <td>R6,IS</td>\n      <td>P</td>\n    </tr>\n    <tr>\n      <th>2020-12-31 15:00:00-05:00</th>\n      <td>TRADE</td>\n      <td>312.88</td>\n      <td>1</td>\n      <td>R6,IS,OL</td>\n      <td>X</td>\n    </tr>\n    <tr>\n      <th>2020-12-31 15:00:00-05:00</th>\n      <td>TRADE</td>\n      <td>312.89</td>\n      <td>41</td>\n      <td>OL</td>\n      <td>Z</td>\n    </tr>\n    <tr>\n      <th>2020-12-31 15:00:00-05:00</th>\n      <td>TRADE</td>\n      <td>312.88</td>\n      <td>17</td>\n      <td>OL</td>\n      <td>B</td>\n    </tr>\n    <tr>\n      <th>2020-12-31 15:00:00-05:00</th>\n      <td>TRADE</td>\n      <td>312.89</td>\n      <td>500</td>\n      <td>NaN</td>\n      <td>P</td>\n    </tr>\n    <tr>\n      <th>2020-12-31 15:00:00-05:00</th>\n      <td>TRADE</td>\n      <td>312.89</td>\n      <td>200</td>\n      <td>R6,IS</td>\n      <td>Q</td>\n    </tr>\n    <tr>\n      <th>2020-12-31 15:00:00-05:00</th>\n      <td>TRADE</td>\n      <td>312.89</td>\n      <td>200</td>\n      <td>R6,IS</td>\n      <td>Q</td>\n    </tr>\n    <tr>\n      <th>2020-12-31 15:00:00-05:00</th>\n      <td>TRADE</td>\n      <td>312.89</td>\n      <td>200</td>\n      <td>R6,IS</td>\n      <td>K</td>\n    </tr>\n    <tr>\n      <th>2020-12-31 15:00:00-05:00</th>\n      <td>TRADE</td>\n      <td>312.89</td>\n      <td>200</td>\n      <td>R6,IS</td>\n      <td>Z</td>\n    </tr>\n  </tbody>\n</table>\n</div>"
          },
          "metadata": {}
        }
      ],
      "execution_count": 13,
      "metadata": {
        "id": "h16z0fv7ApPa",
        "colab": {
          "base_uri": "https://localhost:8080/",
          "height": 394
        },
        "outputId": "c0fe5dde-0d22-4368-e55e-ece0cf6f4cd3",
        "execution": {
          "iopub.status.busy": "2021-01-01T16:22:59.913Z",
          "iopub.execute_input": "2021-01-01T16:22:59.924Z",
          "iopub.status.idle": "2021-01-01T16:23:09.264Z",
          "shell.execute_reply": "2021-01-01T16:23:09.253Z"
        }
      }
    },
    {
      "cell_type": "markdown",
      "source": [
        "# Equity Screen `BEQS`"
      ],
      "metadata": {
        "id": "EGbQrVbcGjTg"
      }
    },
    {
      "cell_type": "code",
      "source": [
        "blp.beqs('Core Capital Ratios', typ='GLOBAL').iloc[:5, :6]"
      ],
      "outputs": [
        {
          "output_type": "execute_result",
          "execution_count": 14,
          "data": {
            "text/plain": "          ticker        short_name         market_cap tier_1_cap_rt_lf tot_rsk_bsd_cap_rt_lf moody's_issuer_rtg\n8331 JP  8331 JP    CHIBA BANK LTD   4,488,526,848.00            11.89                 12.44                 A1\n8355 JP  8355 JP     SHIZUOKA BANK   4,359,666,688.00            16.17                 16.17                 A1\nABN NA    ABN NA  ABN AMRO BANK-CV   9,208,644,608.00            19.00                 23.40                 A1\nACA FP    ACA FP   CREDIT AGRICOLE  36,767,424,512.00            14.10                 18.20                Aa3\nBAC US    BAC US   BANK OF AMERICA 262,205,423,616.00            13.50                 16.10                 A2",
            "text/html": "<div>\n<style scoped>\n    .dataframe tbody tr th:only-of-type {\n        vertical-align: middle;\n    }\n\n    .dataframe tbody tr th {\n        vertical-align: top;\n    }\n\n    .dataframe thead th {\n        text-align: right;\n    }\n</style>\n<table border=\"1\" class=\"dataframe\">\n  <thead>\n    <tr style=\"text-align: right;\">\n      <th></th>\n      <th>ticker</th>\n      <th>short_name</th>\n      <th>market_cap</th>\n      <th>tier_1_cap_rt_lf</th>\n      <th>tot_rsk_bsd_cap_rt_lf</th>\n      <th>moody's_issuer_rtg</th>\n    </tr>\n  </thead>\n  <tbody>\n    <tr>\n      <th>8331 JP</th>\n      <td>8331 JP</td>\n      <td>CHIBA BANK LTD</td>\n      <td>4,488,526,848.00</td>\n      <td>11.89</td>\n      <td>12.44</td>\n      <td>A1</td>\n    </tr>\n    <tr>\n      <th>8355 JP</th>\n      <td>8355 JP</td>\n      <td>SHIZUOKA BANK</td>\n      <td>4,359,666,688.00</td>\n      <td>16.17</td>\n      <td>16.17</td>\n      <td>A1</td>\n    </tr>\n    <tr>\n      <th>ABN NA</th>\n      <td>ABN NA</td>\n      <td>ABN AMRO BANK-CV</td>\n      <td>9,208,644,608.00</td>\n      <td>19.00</td>\n      <td>23.40</td>\n      <td>A1</td>\n    </tr>\n    <tr>\n      <th>ACA FP</th>\n      <td>ACA FP</td>\n      <td>CREDIT AGRICOLE</td>\n      <td>36,767,424,512.00</td>\n      <td>14.10</td>\n      <td>18.20</td>\n      <td>Aa3</td>\n    </tr>\n    <tr>\n      <th>BAC US</th>\n      <td>BAC US</td>\n      <td>BANK OF AMERICA</td>\n      <td>262,205,423,616.00</td>\n      <td>13.50</td>\n      <td>16.10</td>\n      <td>A2</td>\n    </tr>\n  </tbody>\n</table>\n</div>"
          },
          "metadata": {}
        }
      ],
      "execution_count": 14,
      "metadata": {
        "id": "2Q4CEzWkF0GH",
        "colab": {
          "base_uri": "https://localhost:8080/",
          "height": 206
        },
        "outputId": "1db4c0d8-21e2-4e82-853e-10cc473c50c2",
        "execution": {
          "iopub.status.busy": "2021-01-01T16:23:09.279Z",
          "iopub.execute_input": "2021-01-01T16:23:09.290Z",
          "shell.execute_reply": "2021-01-01T16:23:15.907Z",
          "iopub.status.idle": "2021-01-01T16:23:15.922Z"
        }
      }
    },
    {
      "cell_type": "markdown",
      "source": [
        "# Subscription"
      ],
      "metadata": {
        "id": "513ExSuJAn7m"
      }
    },
    {
      "cell_type": "markdown",
      "source": [
        "`blp.live` will yield market data as `dict`"
      ],
      "metadata": {
        "id": "r_F2LaVFzTs-"
      }
    },
    {
      "cell_type": "code",
      "source": [
        "async for snap in blp.live(['ESA Index', 'NQA Index'], info=const.LIVE_INFO, max_cnt=2):\n",
        "    print(snap)"
      ],
      "outputs": [
        {
          "output_type": "stream",
          "name": "stdout",
          "text": [
            "{'TICKER': 'NQA Index', 'FIELD': 'LAST_PRICE', 'MKTDATA_EVENT_TYPE': 'SUMMARY', 'MKTDATA_EVENT_SUBTYPE': 'INITPAINT', 'BID': 12882.25, 'ASK': 12887.0, 'LAST_PRICE': 12885.5, 'VOLUME': 277076, 'MID': 12884.63, 'SPREAD_BA': 4.75, 'IS_DELAYED_STREAM': True, 'REALTIME_PERCENT_BID_ASK_SPREAD': 0.03690000000000282, 'RT_PX_CHG_PCT_1D': 0.3425999879837036}\n",
            "{'TICKER': 'ESA Index', 'FIELD': 'LAST_PRICE', 'MKTDATA_EVENT_TYPE': 'SUMMARY', 'MKTDATA_EVENT_SUBTYPE': 'INITPAINT', 'BID': 3748.5, 'ASK': 3749.0, 'LAST_PRICE': 3748.75, 'VOLUME': 917212, 'MID': 3748.75, 'SPREAD_BA': 0.5, 'IS_DELAYED_STREAM': True, 'REALTIME_PERCENT_BID_ASK_SPREAD': 0.013300000000000978, 'RT_PX_CHG_PCT_1D': 0.6578999757766724}\n"
          ]
        }
      ],
      "execution_count": 15,
      "metadata": {
        "id": "IUU5v2ogAL9w",
        "colab": {
          "base_uri": "https://localhost:8080/"
        },
        "outputId": "e8f84db3-d66e-42b3-9fa3-cd996d000504",
        "execution": {
          "iopub.status.busy": "2021-01-01T16:23:15.938Z",
          "iopub.execute_input": "2021-01-01T16:23:15.951Z",
          "iopub.status.idle": "2021-01-01T16:23:17.744Z",
          "shell.execute_reply": "2021-01-01T16:23:17.731Z"
        }
      }
    },
    {
      "cell_type": "markdown",
      "source": [
        "# Pipelines"
      ],
      "metadata": {
        "id": "nfE-ygMl9O46"
      }
    },
    {
      "cell_type": "code",
      "source": [
        "fx = blp.bdib('JPY Curncy', dt=pre_dt)\n",
        "jp = pd.concat([\n",
        "    blp.bdib(ticker, dt=pre_dt, session='day')\n",
        "    for ticker in ['7974 JP Equity', '9984 JP Equity']\n",
        "], axis=1)\n",
        "jp.tail()"
      ],
      "outputs": [
        {
          "output_type": "execute_result",
          "execution_count": 17,
          "data": {
            "text/plain": "                          7974 JP Equity                                         ... 9984 JP Equity                  \\\n                                    open      high       low     close   volume  ...            low    close volume   \n2020-12-30 14:54:00+09:00      65,980.00 66,000.00 65,940.00 65,970.00 2,600.00  ...       8,075.00 8,079.00  32000   \n2020-12-30 14:55:00+09:00      65,940.00 65,950.00 65,920.00 65,950.00 3,200.00  ...       8,078.00 8,080.00  45400   \n2020-12-30 14:56:00+09:00      65,940.00 65,940.00 65,880.00 65,880.00 4,400.00  ...       8,076.00 8,078.00  46200   \n2020-12-30 14:57:00+09:00      65,900.00 65,920.00 65,880.00 65,910.00 2,600.00  ...       8,077.00 8,083.00  49600   \n2020-12-30 14:58:00+09:00      65,910.00 65,930.00 65,900.00 65,920.00 4,300.00  ...       8,078.00 8,081.00  59400   \n\n                                                   \n                          num_trds          value  \n2020-12-30 14:54:00+09:00       60 258,512,704.00  \n2020-12-30 14:55:00+09:00       78 366,882,688.00  \n2020-12-30 14:56:00+09:00       91 373,219,200.00  \n2020-12-30 14:57:00+09:00      111 400,801,600.00  \n2020-12-30 14:58:00+09:00      110 479,994,720.00  \n\n[5 rows x 14 columns]",
            "text/html": "<div>\n<style scoped>\n    .dataframe tbody tr th:only-of-type {\n        vertical-align: middle;\n    }\n\n    .dataframe tbody tr th {\n        vertical-align: top;\n    }\n\n    .dataframe thead tr th {\n        text-align: left;\n    }\n</style>\n<table border=\"1\" class=\"dataframe\">\n  <thead>\n    <tr>\n      <th></th>\n      <th colspan=\"5\" halign=\"left\">7974 JP Equity</th>\n      <th>...</th>\n      <th colspan=\"5\" halign=\"left\">9984 JP Equity</th>\n    </tr>\n    <tr>\n      <th></th>\n      <th>open</th>\n      <th>high</th>\n      <th>low</th>\n      <th>close</th>\n      <th>volume</th>\n      <th>...</th>\n      <th>low</th>\n      <th>close</th>\n      <th>volume</th>\n      <th>num_trds</th>\n      <th>value</th>\n    </tr>\n  </thead>\n  <tbody>\n    <tr>\n      <th>2020-12-30 14:54:00+09:00</th>\n      <td>65,980.00</td>\n      <td>66,000.00</td>\n      <td>65,940.00</td>\n      <td>65,970.00</td>\n      <td>2,600.00</td>\n      <td>...</td>\n      <td>8,075.00</td>\n      <td>8,079.00</td>\n      <td>32000</td>\n      <td>60</td>\n      <td>258,512,704.00</td>\n    </tr>\n    <tr>\n      <th>2020-12-30 14:55:00+09:00</th>\n      <td>65,940.00</td>\n      <td>65,950.00</td>\n      <td>65,920.00</td>\n      <td>65,950.00</td>\n      <td>3,200.00</td>\n      <td>...</td>\n      <td>8,078.00</td>\n      <td>8,080.00</td>\n      <td>45400</td>\n      <td>78</td>\n      <td>366,882,688.00</td>\n    </tr>\n    <tr>\n      <th>2020-12-30 14:56:00+09:00</th>\n      <td>65,940.00</td>\n      <td>65,940.00</td>\n      <td>65,880.00</td>\n      <td>65,880.00</td>\n      <td>4,400.00</td>\n      <td>...</td>\n      <td>8,076.00</td>\n      <td>8,078.00</td>\n      <td>46200</td>\n      <td>91</td>\n      <td>373,219,200.00</td>\n    </tr>\n    <tr>\n      <th>2020-12-30 14:57:00+09:00</th>\n      <td>65,900.00</td>\n      <td>65,920.00</td>\n      <td>65,880.00</td>\n      <td>65,910.00</td>\n      <td>2,600.00</td>\n      <td>...</td>\n      <td>8,077.00</td>\n      <td>8,083.00</td>\n      <td>49600</td>\n      <td>111</td>\n      <td>400,801,600.00</td>\n    </tr>\n    <tr>\n      <th>2020-12-30 14:58:00+09:00</th>\n      <td>65,910.00</td>\n      <td>65,930.00</td>\n      <td>65,900.00</td>\n      <td>65,920.00</td>\n      <td>4,300.00</td>\n      <td>...</td>\n      <td>8,078.00</td>\n      <td>8,081.00</td>\n      <td>59400</td>\n      <td>110</td>\n      <td>479,994,720.00</td>\n    </tr>\n  </tbody>\n</table>\n<p>5 rows × 14 columns</p>\n</div>"
          },
          "metadata": {}
        }
      ],
      "execution_count": 17,
      "metadata": {
        "id": "oeoJykcSAjqY",
        "colab": {
          "base_uri": "https://localhost:8080/",
          "height": 267
        },
        "outputId": "ef267f23-4218-4277-a9e1-b5a8239dde52",
        "execution": {
          "iopub.status.busy": "2021-01-01T16:23:17.781Z",
          "iopub.execute_input": "2021-01-01T16:23:17.791Z",
          "iopub.status.idle": "2021-01-01T16:23:17.950Z",
          "shell.execute_reply": "2021-01-01T16:23:18.005Z"
        }
      }
    },
    {
      "cell_type": "markdown",
      "source": [
        "Get `close` prices and convert to USD"
      ],
      "metadata": {
        "id": "T9-5WgXj_vBp"
      }
    },
    {
      "cell_type": "code",
      "source": [
        "prices = (\n",
        "    jp\n",
        "    .pipe(pipeline.get_series, col='close')\n",
        "    .pipe(pipeline.apply_fx, fx=fx)\n",
        "    .tz_convert('Asia/Tokyo')\n",
        ")\n",
        "prices.tail()"
      ],
      "outputs": [
        {
          "output_type": "execute_result",
          "execution_count": 18,
          "data": {
            "text/plain": "                           7974 JP Equity  9984 JP Equity\n2020-12-30 14:54:00+09:00          638.56           78.20\n2020-12-30 14:55:00+09:00          638.37           78.21\n2020-12-30 14:56:00+09:00          637.69           78.19\n2020-12-30 14:57:00+09:00          637.92           78.23\n2020-12-30 14:58:00+09:00          637.96           78.21",
            "text/html": "<div>\n<style scoped>\n    .dataframe tbody tr th:only-of-type {\n        vertical-align: middle;\n    }\n\n    .dataframe tbody tr th {\n        vertical-align: top;\n    }\n\n    .dataframe thead th {\n        text-align: right;\n    }\n</style>\n<table border=\"1\" class=\"dataframe\">\n  <thead>\n    <tr style=\"text-align: right;\">\n      <th></th>\n      <th>7974 JP Equity</th>\n      <th>9984 JP Equity</th>\n    </tr>\n  </thead>\n  <tbody>\n    <tr>\n      <th>2020-12-30 14:54:00+09:00</th>\n      <td>638.56</td>\n      <td>78.20</td>\n    </tr>\n    <tr>\n      <th>2020-12-30 14:55:00+09:00</th>\n      <td>638.37</td>\n      <td>78.21</td>\n    </tr>\n    <tr>\n      <th>2020-12-30 14:56:00+09:00</th>\n      <td>637.69</td>\n      <td>78.19</td>\n    </tr>\n    <tr>\n      <th>2020-12-30 14:57:00+09:00</th>\n      <td>637.92</td>\n      <td>78.23</td>\n    </tr>\n    <tr>\n      <th>2020-12-30 14:58:00+09:00</th>\n      <td>637.96</td>\n      <td>78.21</td>\n    </tr>\n  </tbody>\n</table>\n</div>"
          },
          "metadata": {}
        }
      ],
      "execution_count": 18,
      "metadata": {
        "id": "qCDBiBx4-JMk",
        "colab": {
          "base_uri": "https://localhost:8080/",
          "height": 206
        },
        "outputId": "1bde3569-ba9e-4c40-aadb-88ba6c3680da",
        "execution": {
          "iopub.status.busy": "2021-01-01T16:23:17.966Z",
          "iopub.execute_input": "2021-01-01T16:23:17.976Z",
          "shell.execute_reply": "2021-01-01T16:23:18.078Z",
          "iopub.status.idle": "2021-01-01T16:23:18.025Z"
        }
      }
    },
    {
      "cell_type": "markdown",
      "source": [
        "## Customized Pipelines"
      ],
      "metadata": {
        "id": "WY9v31j7lhcm"
      }
    },
    {
      "cell_type": "markdown",
      "source": [
        "VWAP for intraday bar data"
      ],
      "metadata": {
        "id": "teA0jx5axwsx"
      }
    },
    {
      "cell_type": "code",
      "source": [
        "def vwap(data: pd.DataFrame, fx=None, name=None) -> pd.Series:\n",
        "    return pd.Series({\n",
        "        ticker: (\n",
        "            data[ticker][['close', 'volume']].prod(axis=1).sum()\n",
        "            if fx is None else (\n",
        "                data[ticker].close\n",
        "                .pipe(pipeline.apply_fx, fx)\n",
        "                .close\n",
        "                .mul(data[ticker].volume)\n",
        "                .sum()\n",
        "            )\n",
        "        ) / data[ticker].volume.sum()\n",
        "        for ticker in data.columns.get_level_values(0).unique()\n",
        "    }, name=name)"
      ],
      "outputs": [],
      "execution_count": 19,
      "metadata": {
        "id": "Iy5cJP_N_iyk",
        "execution": {
          "iopub.status.busy": "2021-01-01T16:23:18.040Z",
          "iopub.execute_input": "2021-01-01T16:23:18.050Z",
          "iopub.status.idle": "2021-01-01T16:23:18.092Z",
          "shell.execute_reply": "2021-01-01T16:23:18.083Z"
        }
      }
    },
    {
      "cell_type": "markdown",
      "source": [
        "VWAP in local currency"
      ],
      "metadata": {
        "id": "aLsq0Gv_xnA-"
      }
    },
    {
      "cell_type": "code",
      "source": [
        "jp.pipe(vwap, name=jp.index[-1].date())"
      ],
      "outputs": [
        {
          "output_type": "execute_result",
          "execution_count": 20,
          "data": {
            "text/plain": "7974 JP Equity   66,033.79\n9984 JP Equity    8,032.60\nName: 2020-12-30, dtype: float64"
          },
          "metadata": {}
        }
      ],
      "execution_count": 20,
      "metadata": {
        "id": "eFZ7BVXKmWbB",
        "colab": {
          "base_uri": "https://localhost:8080/"
        },
        "outputId": "a8652aa3-d365-4c1f-a748-9b75c176d339",
        "execution": {
          "iopub.status.busy": "2021-01-01T16:23:18.111Z",
          "iopub.execute_input": "2021-01-01T16:23:18.120Z",
          "iopub.status.idle": "2021-01-01T16:23:18.139Z",
          "shell.execute_reply": "2021-01-01T16:23:18.182Z"
        }
      }
    },
    {
      "cell_type": "markdown",
      "source": [
        "VWAP in USD"
      ],
      "metadata": {
        "id": "PLKVB7aExpXU"
      }
    },
    {
      "cell_type": "code",
      "source": [
        "jp.pipe(vwap, fx=fx, name=jp.index[-1].date())"
      ],
      "outputs": [
        {
          "output_type": "execute_result",
          "execution_count": 21,
          "data": {
            "text/plain": "7974 JP Equity   638.34\n9984 JP Equity    77.68\nName: 2020-12-30, dtype: float64"
          },
          "metadata": {}
        }
      ],
      "execution_count": 21,
      "metadata": {
        "id": "dJRcosfWw78M",
        "colab": {
          "base_uri": "https://localhost:8080/"
        },
        "outputId": "9683aecb-fb82-4d36-a7a8-99777001405e",
        "execution": {
          "iopub.status.busy": "2021-01-01T16:23:18.153Z",
          "iopub.execute_input": "2021-01-01T16:23:18.162Z",
          "iopub.status.idle": "2021-01-01T16:23:18.256Z",
          "shell.execute_reply": "2021-01-01T16:23:18.244Z"
        }
      }
    },
    {
      "cell_type": "markdown",
      "source": [
        "Total traded volume as of time in day for past few days"
      ],
      "metadata": {
        "id": "CwkBOgdwxhGM"
      }
    },
    {
      "cell_type": "code",
      "source": [
        "jp_hist = pd.concat([\n",
        "    pd.concat([\n",
        "        blp.bdib(ticker, dt=dt, session='day')\n",
        "        for ticker in ['7974 JP Equity', '9984 JP Equity']\n",
        "    ], axis=1)\n",
        "    for dt in pd.bdate_range(end='today', periods=10)[:-1]\n",
        "], sort=False)\n",
        "unique(jp_hist.index.date)"
      ],
      "outputs": [
        {
          "output_type": "execute_result",
          "execution_count": 22,
          "data": {
            "text/plain": "array([datetime.date(2020, 12, 21), datetime.date(2020, 12, 22),\n       datetime.date(2020, 12, 23), datetime.date(2020, 12, 24),\n       datetime.date(2020, 12, 25), datetime.date(2020, 12, 28),\n       datetime.date(2020, 12, 29), datetime.date(2020, 12, 30)],\n      dtype=object)"
          },
          "metadata": {}
        }
      ],
      "execution_count": 22,
      "metadata": {
        "id": "ufOqMLr8WoAa",
        "colab": {
          "base_uri": "https://localhost:8080/"
        },
        "outputId": "c3fcfc38-1ced-4ed1-9850-2aa1c70af4b9",
        "execution": {
          "iopub.status.busy": "2021-01-01T16:23:18.271Z",
          "iopub.execute_input": "2021-01-01T16:23:18.280Z",
          "shell.execute_reply": "2021-01-01T16:23:19.185Z",
          "iopub.status.idle": "2021-01-01T16:23:19.044Z"
        }
      }
    },
    {
      "cell_type": "code",
      "source": [
        "def drop_zeros(data: pd.DataFrame) -> pd.DataFrame:\n",
        "    return (\n",
        "        data\n",
        "        .replace(0, np.nan)\n",
        "        .dropna(how='all')\n",
        "        .replace(np.nan, 0)\n",
        "    )"
      ],
      "outputs": [],
      "execution_count": 23,
      "metadata": {
        "id": "1rjd1Fh6VQR7",
        "execution": {
          "iopub.status.busy": "2021-01-01T16:23:19.060Z",
          "iopub.execute_input": "2021-01-01T16:23:19.073Z",
          "iopub.status.idle": "2021-01-01T16:23:19.093Z",
          "shell.execute_reply": "2021-01-01T16:23:19.190Z"
        }
      }
    },
    {
      "cell_type": "code",
      "source": [
        "def traded_volume(data: pd.DataFrame, asof: str) -> pd.DataFrame:\n",
        "    return (\n",
        "        data\n",
        "        .pipe(pipeline.get_series, col='volume')\n",
        "        .between_time('0:00', asof)\n",
        "        .resample('B')\n",
        "        .sum()\n",
        "        .pipe(drop_zeros)\n",
        "    )"
      ],
      "outputs": [],
      "execution_count": 24,
      "metadata": {
        "id": "pkYreXZepajc",
        "execution": {
          "iopub.status.busy": "2021-01-01T16:23:19.108Z",
          "iopub.execute_input": "2021-01-01T16:23:19.121Z",
          "iopub.status.idle": "2021-01-01T16:23:19.138Z",
          "shell.execute_reply": "2021-01-01T16:23:19.196Z"
        }
      }
    },
    {
      "cell_type": "code",
      "source": [
        "jp_hist.pipe(traded_volume, asof='10:00')"
      ],
      "outputs": [
        {
          "output_type": "execute_result",
          "execution_count": 25,
          "data": {
            "text/plain": "                           7974 JP Equity  9984 JP Equity\n2020-12-21 00:00:00+09:00      443,500.00         3868900\n2020-12-22 00:00:00+09:00      480,500.00         3702500\n2020-12-23 00:00:00+09:00      331,600.00         3981400\n2020-12-24 00:00:00+09:00      219,200.00         6847500\n2020-12-25 00:00:00+09:00      110,200.00         6366800\n2020-12-28 00:00:00+09:00      250,100.00         5274400\n2020-12-29 00:00:00+09:00      328,200.00         3325300\n2020-12-30 00:00:00+09:00      347,200.00         3665700",
            "text/html": "<div>\n<style scoped>\n    .dataframe tbody tr th:only-of-type {\n        vertical-align: middle;\n    }\n\n    .dataframe tbody tr th {\n        vertical-align: top;\n    }\n\n    .dataframe thead th {\n        text-align: right;\n    }\n</style>\n<table border=\"1\" class=\"dataframe\">\n  <thead>\n    <tr style=\"text-align: right;\">\n      <th></th>\n      <th>7974 JP Equity</th>\n      <th>9984 JP Equity</th>\n    </tr>\n  </thead>\n  <tbody>\n    <tr>\n      <th>2020-12-21 00:00:00+09:00</th>\n      <td>443,500.00</td>\n      <td>3868900</td>\n    </tr>\n    <tr>\n      <th>2020-12-22 00:00:00+09:00</th>\n      <td>480,500.00</td>\n      <td>3702500</td>\n    </tr>\n    <tr>\n      <th>2020-12-23 00:00:00+09:00</th>\n      <td>331,600.00</td>\n      <td>3981400</td>\n    </tr>\n    <tr>\n      <th>2020-12-24 00:00:00+09:00</th>\n      <td>219,200.00</td>\n      <td>6847500</td>\n    </tr>\n    <tr>\n      <th>2020-12-25 00:00:00+09:00</th>\n      <td>110,200.00</td>\n      <td>6366800</td>\n    </tr>\n    <tr>\n      <th>2020-12-28 00:00:00+09:00</th>\n      <td>250,100.00</td>\n      <td>5274400</td>\n    </tr>\n    <tr>\n      <th>2020-12-29 00:00:00+09:00</th>\n      <td>328,200.00</td>\n      <td>3325300</td>\n    </tr>\n    <tr>\n      <th>2020-12-30 00:00:00+09:00</th>\n      <td>347,200.00</td>\n      <td>3665700</td>\n    </tr>\n  </tbody>\n</table>\n</div>"
          },
          "metadata": {}
        }
      ],
      "execution_count": 25,
      "metadata": {
        "id": "Q8lX043tVQ6Y",
        "colab": {
          "base_uri": "https://localhost:8080/",
          "height": 300
        },
        "outputId": "c94e7403-99fe-40b1-c6d1-72ff5e42c49a",
        "execution": {
          "iopub.status.busy": "2021-01-01T16:23:19.151Z",
          "iopub.execute_input": "2021-01-01T16:23:19.158Z",
          "iopub.status.idle": "2021-01-01T16:23:19.218Z",
          "shell.execute_reply": "2021-01-01T16:23:19.200Z"
        }
      }
    },
    {
      "cell_type": "code",
      "source": [
        "jp_hist.pipe(traded_volume, asof='11:00')"
      ],
      "outputs": [
        {
          "output_type": "execute_result",
          "execution_count": 26,
          "data": {
            "text/plain": "                           7974 JP Equity  9984 JP Equity\n2020-12-21 00:00:00+09:00      627,200.00         6054000\n2020-12-22 00:00:00+09:00      681,000.00         5594700\n2020-12-23 00:00:00+09:00      531,700.00         6849000\n2020-12-24 00:00:00+09:00      297,700.00         9501200\n2020-12-25 00:00:00+09:00      226,000.00         8100000\n2020-12-28 00:00:00+09:00      350,200.00         7074800\n2020-12-29 00:00:00+09:00      459,500.00         5590500\n2020-12-30 00:00:00+09:00      432,200.00         5847900",
            "text/html": "<div>\n<style scoped>\n    .dataframe tbody tr th:only-of-type {\n        vertical-align: middle;\n    }\n\n    .dataframe tbody tr th {\n        vertical-align: top;\n    }\n\n    .dataframe thead th {\n        text-align: right;\n    }\n</style>\n<table border=\"1\" class=\"dataframe\">\n  <thead>\n    <tr style=\"text-align: right;\">\n      <th></th>\n      <th>7974 JP Equity</th>\n      <th>9984 JP Equity</th>\n    </tr>\n  </thead>\n  <tbody>\n    <tr>\n      <th>2020-12-21 00:00:00+09:00</th>\n      <td>627,200.00</td>\n      <td>6054000</td>\n    </tr>\n    <tr>\n      <th>2020-12-22 00:00:00+09:00</th>\n      <td>681,000.00</td>\n      <td>5594700</td>\n    </tr>\n    <tr>\n      <th>2020-12-23 00:00:00+09:00</th>\n      <td>531,700.00</td>\n      <td>6849000</td>\n    </tr>\n    <tr>\n      <th>2020-12-24 00:00:00+09:00</th>\n      <td>297,700.00</td>\n      <td>9501200</td>\n    </tr>\n    <tr>\n      <th>2020-12-25 00:00:00+09:00</th>\n      <td>226,000.00</td>\n      <td>8100000</td>\n    </tr>\n    <tr>\n      <th>2020-12-28 00:00:00+09:00</th>\n      <td>350,200.00</td>\n      <td>7074800</td>\n    </tr>\n    <tr>\n      <th>2020-12-29 00:00:00+09:00</th>\n      <td>459,500.00</td>\n      <td>5590500</td>\n    </tr>\n    <tr>\n      <th>2020-12-30 00:00:00+09:00</th>\n      <td>432,200.00</td>\n      <td>5847900</td>\n    </tr>\n  </tbody>\n</table>\n</div>"
          },
          "metadata": {}
        }
      ],
      "execution_count": 26,
      "metadata": {
        "id": "JmqNerQiTbVW",
        "colab": {
          "base_uri": "https://localhost:8080/",
          "height": 300
        },
        "outputId": "bf276ae0-6fdb-4f4b-9cdb-ab466389a0dd",
        "execution": {
          "iopub.status.busy": "2021-01-01T16:23:19.230Z",
          "iopub.execute_input": "2021-01-01T16:23:19.242Z",
          "iopub.status.idle": "2021-01-01T16:23:19.263Z",
          "shell.execute_reply": "2021-01-01T16:23:19.293Z"
        }
      }
    },
    {
      "cell_type": "code",
      "source": [],
      "outputs": [],
      "execution_count": null,
      "metadata": {
        "id": "L1qu50oaO6Rv"
      }
    }
  ],
  "metadata": {
    "colab": {
      "name": "Bloomberg Data Examples.ipynb",
      "provenance": [],
      "collapsed_sections": [],
      "toc_visible": true
    },
    "kernelspec": {
      "name": "python3",
      "display_name": "Python 3"
    },
    "language_info": {
      "name": "python",
      "version": "3.7.9",
      "mimetype": "text/x-python",
      "codemirror_mode": {
        "name": "ipython",
        "version": 3
      },
      "pygments_lexer": "ipython3",
      "nbconvert_exporter": "python",
      "file_extension": ".py"
    },
    "nteract": {
      "version": "0.27.0"
    }
  },
  "nbformat": 4,
  "nbformat_minor": 0
}